{
 "cells": [
  {
   "cell_type": "markdown",
   "metadata": {},
   "source": [
    "## Leet code\n",
    "\n",
    "For today you will be solving some selected challenges on leetcode, please create an account if you don't have then\n",
    "Follow the links below:\n",
    "read them carefully and solve them then copy-paste your solution below in Code Block\n"
   ]
  },
  {
   "cell_type": "markdown",
   "metadata": {},
   "source": [
    "### **Question-01**:\n",
    "-----\n"
   ]
  },
  {
   "cell_type": "markdown",
   "metadata": {},
   "source": [
    "##### [Roman-To-Integer](https://leetcode.com/problems/roman-to-integer/)\n",
    "\n",
    "Solution:\n"
   ]
  },
  {
   "cell_type": "code",
   "execution_count": 53,
   "metadata": {},
   "outputs": [],
   "source": [
    "def romanToInt(s):\n",
    "    \"\"\"\n",
    "    :type s: str\n",
    "    :rtype: int\n",
    "    \"\"\"\n",
    "    roman = {'I':1,'V':5,'X':10,'L':50,'C':100,'D':500,'M':1000,'IV':4,'IX':9,'XL':40,'XC':90,'CD':400,'CM':900}\n",
    "    i = 0\n",
    "    num = 0\n",
    "    while i < len(s):\n",
    "        if i+1<len(s) and s[i:i+2] in roman:\n",
    "            num+=roman[s[i:i+2]]\n",
    "            i+=2\n",
    "        else:\n",
    "            #print(i)\n",
    "            num+=roman[s[i]]\n",
    "            i+=1\n",
    "    return num"
   ]
  },
  {
   "cell_type": "markdown",
   "metadata": {},
   "source": [
    "##### testing:"
   ]
  },
  {
   "cell_type": "code",
   "execution_count": 54,
   "metadata": {},
   "outputs": [],
   "source": [
    "assert  58  ==  romanToInt(\"LVIII\")\n",
    "assert 1994 ==  romanToInt(\"MCMXCIV\")\n",
    "assert 3    ==  romanToInt(\"III\")"
   ]
  },
  {
   "cell_type": "markdown",
   "metadata": {},
   "source": [
    "##### Big(O):"
   ]
  },
  {
   "cell_type": "markdown",
   "metadata": {},
   "source": [
    "Time Complexity: O(n)\n",
    "Space Complexity: O(1)"
   ]
  },
  {
   "cell_type": "markdown",
   "metadata": {},
   "source": [
    "### **Question-02**:\n",
    "--------"
   ]
  },
  {
   "cell_type": "markdown",
   "metadata": {},
   "source": [
    "##### [single-number](https://leetcode.com/problems/single-number/)\n",
    "\n",
    "Solution:\n"
   ]
  },
  {
   "cell_type": "code",
   "execution_count": 55,
   "metadata": {},
   "outputs": [],
   "source": [
    "def singleNumber(nums):\n",
    "    res = 0\n",
    "    for x in nums:\n",
    "        res ^= x\n",
    "    return res"
   ]
  },
  {
   "cell_type": "markdown",
   "metadata": {},
   "source": [
    "##### testing:"
   ]
  },
  {
   "cell_type": "code",
   "execution_count": 56,
   "metadata": {},
   "outputs": [],
   "source": [
    "assert 1 ==  singleNumber([2,2,1])\n",
    "assert 4 ==  singleNumber([4,1,2,1,2])\n",
    "assert 1 ==  singleNumber([1])"
   ]
  },
  {
   "cell_type": "markdown",
   "metadata": {},
   "source": [
    "##### Big(O):"
   ]
  },
  {
   "cell_type": "markdown",
   "metadata": {},
   "source": [
    "Time complexity: O(n)\n",
    "Space complexity: O(1)"
   ]
  },
  {
   "cell_type": "markdown",
   "metadata": {},
   "source": [
    "### **Question-03**:\n",
    "------"
   ]
  },
  {
   "cell_type": "markdown",
   "metadata": {},
   "source": [
    "##### [Move Zeroes](https://leetcode.com/problems/move-zeroes/)\n",
    "\n",
    "Solution:\n"
   ]
  },
  {
   "cell_type": "code",
   "execution_count": 57,
   "metadata": {},
   "outputs": [],
   "source": [
    "def moveZeroes(nums):\n",
    "    \n",
    "    l = len(nums)\n",
    "    i = 0\n",
    "    while i < l:\n",
    "        if nums[i] == 0:\n",
    "            nums.append(nums.pop(i))\n",
    "            l -= 1\n",
    "        else:\n",
    "            i += 1\n",
    "    return nums"
   ]
  },
  {
   "cell_type": "markdown",
   "metadata": {},
   "source": [
    "##### testing:"
   ]
  },
  {
   "cell_type": "code",
   "execution_count": 58,
   "metadata": {},
   "outputs": [],
   "source": [
    "assert[1,3,12,0,0]==  moveZeroes([0,1,0,3,12])\n",
    "assert [0] ==  moveZeroes([0])\n",
    "assert [3,2,4,0,0,0] ==  moveZeroes([0,3,0,0,2,4])"
   ]
  },
  {
   "cell_type": "markdown",
   "metadata": {},
   "source": [
    "##### Big(O):"
   ]
  },
  {
   "cell_type": "markdown",
   "metadata": {},
   "source": [
    "Time complexity: O(n)\n",
    "Space complexity: O(1)"
   ]
  },
  {
   "cell_type": "markdown",
   "metadata": {},
   "source": [
    "### **Question-04**:\n",
    "------"
   ]
  },
  {
   "cell_type": "markdown",
   "metadata": {},
   "source": [
    "##### [longest-common-prefix](https://leetcode.com/problems/longest-common-prefix/)\n",
    "\n",
    "Solution:\n"
   ]
  },
  {
   "cell_type": "code",
   "execution_count": 59,
   "metadata": {},
   "outputs": [],
   "source": [
    "def longestCommonPrefix(strs):\n",
    "    \"\"\"\n",
    "    :type strs: List[str]\n",
    "    :rtype: str\n",
    "    \"\"\"\n",
    "    if len(strs) == 0:\n",
    "        return \"\"\n",
    "    else:\n",
    "        s1, s2 = max(strs), min(strs)\n",
    "        i, match = 0, 0\n",
    "        while i < len(s1) and i < len(s2) and s1[i] == s2[i]:\n",
    "            i, match = i+1, match + 1\n",
    "        return s1[0:match]"
   ]
  },
  {
   "cell_type": "markdown",
   "metadata": {},
   "source": [
    "##### testing:"
   ]
  },
  {
   "cell_type": "code",
   "execution_count": 60,
   "metadata": {},
   "outputs": [],
   "source": [
    "assert\"fl\"==  longestCommonPrefix([\"flower\",\"flow\",\"flight\"])\n",
    "assert  \"\" ==  longestCommonPrefix ([\"dog\",\"racecar\",\"car\"])\n",
    "assert \"tra\" ==  longestCommonPrefix([\"transform\",\"transcribe\",\"train\"])"
   ]
  },
  {
   "cell_type": "markdown",
   "metadata": {},
   "source": [
    "##### Big(O):"
   ]
  },
  {
   "cell_type": "markdown",
   "metadata": {},
   "source": [
    "Time complexity: O(n)\n",
    "Space complexity: O(1)"
   ]
  }
 ],
 "metadata": {
  "kernelspec": {
   "display_name": "Python 3.10.6 ('.venv': venv)",
   "language": "python",
   "name": "python3"
  },
  "language_info": {
   "codemirror_mode": {
    "name": "ipython",
    "version": 3
   },
   "file_extension": ".py",
   "mimetype": "text/x-python",
   "name": "python",
   "nbconvert_exporter": "python",
   "pygments_lexer": "ipython3",
   "version": "3.10.6"
  },
  "orig_nbformat": 4,
  "vscode": {
   "interpreter": {
    "hash": "3533f0f2485aa266bcc3a2dd834f145e1b11080cec5ca0ecbbd2931f552bf249"
   }
  }
 },
 "nbformat": 4,
 "nbformat_minor": 2
}
